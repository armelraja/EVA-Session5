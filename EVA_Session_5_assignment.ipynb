{
  "nbformat": 4,
  "nbformat_minor": 0,
  "metadata": {
    "colab": {
      "name": "EVA_Session_5_assignment.ipynb",
      "version": "0.3.2",
      "provenance": [],
      "collapsed_sections": []
    },
    "kernelspec": {
      "name": "python3",
      "display_name": "Python 3"
    },
    "accelerator": "GPU"
  },
  "cells": [
    {
      "cell_type": "markdown",
      "metadata": {
        "id": "TvB2pZmy9LPv",
        "colab_type": "text"
      },
      "source": [
        "<h3>Assignment:</h3>\n",
        "<ol>\n",
        "<li>Change the code 8 or your own 4th Code from Assignment 4 to include:\n",
        "<ol>\n",
        "<li>image normalization</li>\n",
        "<li>L2 regularization</li>\n",
        "<li>ReLU after BN</li>\n",
        "</ol>\n",
        "</li>\n",
        "<li>Run your new code for 40 epochs and save the model with highest validation accuracy</li>\n",
        "<li>Find out 25 misclassified images from the validation dataset and create an image gallery</li>\n",
        "<li>Submit</li>\n",
        "</ol>\n"
      ]
    },
    {
      "cell_type": "markdown",
      "metadata": {
        "id": "l34Khh6ju3Eq",
        "colab_type": "text"
      },
      "source": [
        "Reference :\n",
        "1. https://github.com/amitdoda1983?tab=repositories\n",
        "2. https://github.com/faizanahemad/data-science-utils/blob/master/data_science_utils/vision/keras/SampleAPIUsage.ipynb"
      ]
    },
    {
      "cell_type": "code",
      "metadata": {
        "colab_type": "code",
        "outputId": "ea125622-2abc-4257-b9c7-4cf83f8ddb78",
        "id": "c8A6zWw1u2cx",
        "colab": {
          "base_uri": "https://localhost:8080/",
          "height": 35
        }
      },
      "source": [
        "import numpy as np\n",
        "\n",
        "from keras.models import Sequential\n",
        "from keras.layers import Dense, Dropout, Activation, Flatten, Add, BatchNormalization\n",
        "from keras.layers import Convolution2D, MaxPooling2D, AveragePooling2D\n",
        "from keras.utils import np_utils\n",
        "from keras import regularizers\n",
        "\n",
        "from keras.datasets import mnist\n",
        "\n",
        "import keras.callbacks\n",
        "from keras.callbacks import *"
      ],
      "execution_count": 0,
      "outputs": [
        {
          "output_type": "stream",
          "text": [
            "Using TensorFlow backend.\n"
          ],
          "name": "stderr"
        }
      ]
    },
    {
      "cell_type": "code",
      "metadata": {
        "id": "YlEUplvoxKAT",
        "colab_type": "code",
        "outputId": "d4c40762-e0e3-4f83-f5e7-8c0f76bf250b",
        "colab": {
          "base_uri": "https://localhost:8080/",
          "height": 52
        }
      },
      "source": [
        "  (X_train, y_train), (X_test, y_test) = mnist.load_data()\n"
      ],
      "execution_count": 0,
      "outputs": [
        {
          "output_type": "stream",
          "text": [
            "Downloading data from https://s3.amazonaws.com/img-datasets/mnist.npz\n",
            "11493376/11490434 [==============================] - 1s 0us/step\n"
          ],
          "name": "stdout"
        }
      ]
    },
    {
      "cell_type": "code",
      "metadata": {
        "id": "I6Y9Va-xxMXG",
        "colab_type": "code",
        "outputId": "d0455cbb-da04-44a7-93dd-b8077f2f71db",
        "colab": {
          "base_uri": "https://localhost:8080/",
          "height": 304
        }
      },
      "source": [
        "print (X_train.shape)\n",
        "from matplotlib import pyplot as plt\n",
        "%matplotlib inline\n",
        "plt.imshow(X_train[1])"
      ],
      "execution_count": 0,
      "outputs": [
        {
          "output_type": "stream",
          "text": [
            "(60000, 28, 28)\n"
          ],
          "name": "stdout"
        },
        {
          "output_type": "execute_result",
          "data": {
            "text/plain": [
              "<matplotlib.image.AxesImage at 0x7f876e85b128>"
            ]
          },
          "metadata": {
            "tags": []
          },
          "execution_count": 3
        },
        {
          "output_type": "display_data",
          "data": {
            "image/png": "[encoded data removed]",
            "text/plain": [
              "<Figure size 432x288 with 1 Axes>"
            ]
          },
          "metadata": {
            "tags": []
          }
        }
      ]
    },
    {
      "cell_type": "code",
      "metadata": {
        "id": "c7BAQ2CJbI2x",
        "colab_type": "code",
        "outputId": "f0d7e226-c701-402c-c91e-55b94e647c93",
        "colab": {
          "base_uri": "https://localhost:8080/",
          "height": 35
        }
      },
      "source": [
        "# Mean and Standard Deviation of Train Images\n",
        "print(X_train.mean(),X_train.std())"
      ],
      "execution_count": 0,
      "outputs": [
        {
          "output_type": "stream",
          "text": [
            "33.318421449829934 78.56748998339798\n"
          ],
          "name": "stdout"
        }
      ]
    },
    {
      "cell_type": "code",
      "metadata": {
        "id": "MA5JctPabdQQ",
        "colab_type": "code",
        "outputId": "5eb9ffb3-e047-411f-c2db-5a56de587cb4",
        "colab": {
          "base_uri": "https://localhost:8080/",
          "height": 35
        }
      },
      "source": [
        "# Mean and Standard Deviation of Test Images\n",
        "print (X_test.mean(),X_test.std())"
      ],
      "execution_count": 0,
      "outputs": [
        {
          "output_type": "stream",
          "text": [
            "33.791224489795916 79.17246322228644\n"
          ],
          "name": "stdout"
        }
      ]
    },
    {
      "cell_type": "code",
      "metadata": {
        "id": "DsOlADEwbqpx",
        "colab_type": "code",
        "colab": {}
      },
      "source": [
        "train_X= X_train\n",
        "test_X = X_test"
      ],
      "execution_count": 0,
      "outputs": []
    },
    {
      "cell_type": "code",
      "metadata": {
        "id": "lxDZxPhhxOgO",
        "colab_type": "code",
        "colab": {}
      },
      "source": [
        "X_train = X_train.reshape(X_train.shape[0], 28, 28,1)\n",
        "X_test = X_test.reshape(X_test.shape[0], 28, 28,1)"
      ],
      "execution_count": 0,
      "outputs": []
    },
    {
      "cell_type": "markdown",
      "metadata": {
        "id": "T9vgkf22bx_Y",
        "colab_type": "text"
      },
      "source": [
        "##Model with Image Normalization"
      ]
    },
    {
      "cell_type": "code",
      "metadata": {
        "id": "Dg7dtHvEb1Qp",
        "colab_type": "code",
        "outputId": "ec1ab15b-8c81-4de1-8326-8c57871d585e",
        "colab": {
          "base_uri": "https://localhost:8080/",
          "height": 69
        }
      },
      "source": [
        "# example of standardizing a image dataset\n",
        "from keras.datasets import mnist\n",
        "from keras.preprocessing.image import ImageDataGenerator\n",
        "# load dataset\n",
        "(trainX, trainy), (testX, testy) = mnist.load_data()\n",
        "# reshape dataset to have a single channel\n",
        "width, height, channels = trainX.shape[1], trainX.shape[2], 1\n",
        "trainX = trainX.reshape((trainX.shape[0], width, height, channels))\n",
        "testX = testX.reshape((testX.shape[0], width, height, channels))\n",
        "# report pixel means and standard deviations\n",
        "print('Statistics train=%.3f (%.3f), test=%.3f (%.3f)' % (trainX.mean(), trainX.std(), testX.mean(), testX.std()))\n",
        "\n",
        "# create generator that centers pixel values\n",
        "datagen = ImageDataGenerator(featurewise_center=True, featurewise_std_normalization=True)\n",
        "\n",
        "# calculate the mean on the training dataset\n",
        "datagen.fit(trainX)\n",
        "#print('Data Generator mean=%.3f, std=%.3f' % (datagen.mean, datagen.std))\n",
        "\n",
        "# demonstrate effect on a single batch of samples\n",
        "iterator = datagen.flow(trainX, trainy, batch_size=64)\n",
        "\n",
        "# get a batch\n",
        "batchX, batchy = iterator.next()\n",
        "\n",
        "# pixel stats in the batch\n",
        "print(batchX.shape, batchX.mean(), batchX.std())\n",
        "\n",
        "# demonstrate effect on entire training dataset\n",
        "iterator = datagen.flow(trainX, trainy, batch_size=len(trainX), shuffle=False)\n",
        "\n",
        "# get a batch\n",
        "batchX, batchy = iterator.next()\n",
        "\n",
        "# pixel stats in the batch\n",
        "print(batchX.shape, batchX.mean(), batchX.std())"
      ],
      "execution_count": 0,
      "outputs": [
        {
          "output_type": "stream",
          "text": [
            "Statistics train=33.318 (78.567), test=33.791 (79.172)\n",
            "(64, 28, 28, 1) -0.009762686 0.99055666\n",
            "(60000, 28, 28, 1) -3.4560264e-07 0.9999998\n"
          ],
          "name": "stdout"
        }
      ]
    },
    {
      "cell_type": "code",
      "metadata": {
        "id": "V_E-eF9TdTF_",
        "colab_type": "code",
        "colab": {}
      },
      "source": [
        "# demonstrate effect on entire test dataset\n",
        "iterator = datagen.flow(testX, testy, batch_size=len(testX), shuffle=False)\n",
        "# get a batch\n",
        "batch_testX, batch_testy = iterator.next()"
      ],
      "execution_count": 0,
      "outputs": []
    },
    {
      "cell_type": "code",
      "metadata": {
        "id": "YT75nXpEcxp-",
        "colab_type": "code",
        "outputId": "1f554100-240d-4a6a-d151-9a9a7e7a2dc0",
        "colab": {
          "base_uri": "https://localhost:8080/",
          "height": 35
        }
      },
      "source": [
        "batch_testX.shape"
      ],
      "execution_count": 0,
      "outputs": [
        {
          "output_type": "execute_result",
          "data": {
            "text/plain": [
              "(10000, 28, 28, 1)"
            ]
          },
          "metadata": {
            "tags": []
          },
          "execution_count": 10
        }
      ]
    },
    {
      "cell_type": "code",
      "metadata": {
        "id": "cXiagCNbffxC",
        "colab_type": "code",
        "outputId": "67ed1b3a-20d7-4d9e-994f-ff6e78401bbc",
        "colab": {
          "base_uri": "https://localhost:8080/",
          "height": 35
        }
      },
      "source": [
        "# Mean and Standard Deviation of Test Images after Image Normalization\n",
        "print (batch_testX.mean(),batch_testX.std())"
      ],
      "execution_count": 0,
      "outputs": [
        {
          "output_type": "stream",
          "text": [
            "0.0060174568 1.0077008\n"
          ],
          "name": "stdout"
        }
      ]
    },
    {
      "cell_type": "markdown",
      "metadata": {
        "id": "3VIWTwxRgFAk",
        "colab_type": "text"
      },
      "source": [
        "Reshape the input to have the dimension for channel"
      ]
    },
    {
      "cell_type": "code",
      "metadata": {
        "id": "3HzMqbTnxQQW",
        "colab_type": "code",
        "colab": {}
      },
      "source": [
        "X_train = batchX\n",
        "X_test = batch_testX"
      ],
      "execution_count": 0,
      "outputs": []
    },
    {
      "cell_type": "code",
      "metadata": {
        "id": "OhP2hD7yg44-",
        "colab_type": "code",
        "colab": {}
      },
      "source": [
        "y_train = batchy\n",
        "y_test = batch_testy"
      ],
      "execution_count": 0,
      "outputs": []
    },
    {
      "cell_type": "code",
      "metadata": {
        "id": "7LdYiW6ixR9e",
        "colab_type": "code",
        "colab": {}
      },
      "source": [
        "# One - hot encoding\n",
        "Y_train = np_utils.to_categorical(y_train, 10)\n",
        "Y_test = np_utils.to_categorical(y_test, 10)"
      ],
      "execution_count": 0,
      "outputs": []
    },
    {
      "cell_type": "code",
      "metadata": {
        "id": "rFR0F9j0xVp2",
        "colab_type": "code",
        "outputId": "4ae0b9a6-b1dd-4a1d-b8dc-b4593047076d",
        "colab": {
          "base_uri": "https://localhost:8080/",
          "height": 190
        }
      },
      "source": [
        "Y_train[:10]"
      ],
      "execution_count": 0,
      "outputs": [
        {
          "output_type": "execute_result",
          "data": {
            "text/plain": [
              "array([[0., 0., 0., 0., 0., 1., 0., 0., 0., 0.],\n",
              "       [1., 0., 0., 0., 0., 0., 0., 0., 0., 0.],\n",
              "       [0., 0., 0., 0., 1., 0., 0., 0., 0., 0.],\n",
              "       [0., 1., 0., 0., 0., 0., 0., 0., 0., 0.],\n",
              "       [0., 0., 0., 0., 0., 0., 0., 0., 0., 1.],\n",
              "       [0., 0., 1., 0., 0., 0., 0., 0., 0., 0.],\n",
              "       [0., 1., 0., 0., 0., 0., 0., 0., 0., 0.],\n",
              "       [0., 0., 0., 1., 0., 0., 0., 0., 0., 0.],\n",
              "       [0., 1., 0., 0., 0., 0., 0., 0., 0., 0.],\n",
              "       [0., 0., 0., 0., 1., 0., 0., 0., 0., 0.]], dtype=float32)"
            ]
          },
          "metadata": {
            "tags": []
          },
          "execution_count": 15
        }
      ]
    },
    {
      "cell_type": "markdown",
      "metadata": {
        "id": "Ge0U2VqpO4pJ",
        "colab_type": "text"
      },
      "source": [
        "#With Image Normalization, RELU after BN annd L2 Regularizer"
      ]
    },
    {
      "cell_type": "code",
      "metadata": {
        "id": "mDpXf4YQxXRm",
        "colab_type": "code",
        "outputId": "2abe706a-a964-40da-8bbd-05a022e713ac",
        "colab": {
          "base_uri": "https://localhost:8080/",
          "height": 72
        }
      },
      "source": [
        "\n",
        "model = Sequential()\n",
        "\n",
        "model.add(Convolution2D(10, 3, 3, activation='relu', input_shape=(28,28,1),kernel_regularizer=regularizers.l2(0.0000001))) \n",
        "# Global Receptive field (3,3), output channel size =(26,26,10)\n",
        "\n",
        "model.add(Convolution2D(16, (3, 3),kernel_regularizer=regularizers.l2(0.0000001)))\n",
        "# Global Receptive field (5,5), output channel size =(24,24,16)\n",
        "\n",
        "model.add(BatchNormalization())\n",
        "model.add(Activation('relu'))\n",
        "model.add(Dropout(0.2))\n",
        "\n",
        "model.add(MaxPooling2D(pool_size = (2, 2)))\n",
        "# Global Receptive field (10,10), output channel size =(12,12,16)\n",
        "\n",
        "model.add(Convolution2D(16, (3, 3), kernel_regularizer=regularizers.l2(0.0000001))) \n",
        "# Global Receptive field (12,12), output channel size =(10,10,16)\n",
        "  \n",
        "model.add(BatchNormalization())\n",
        "model.add(Activation('relu'))\n",
        "model.add(Dropout(0.2))\n",
        "\n",
        "model.add(MaxPooling2D(pool_size = (2, 2)))\n",
        "# Global Receptive field (24,24), output channel size =(5,5,16)\n",
        "\n",
        "\n",
        "  \n",
        "model.add(Convolution2D(32, (3,3),activation='relu',kernel_regularizer=regularizers.l2(0.0000001)))  \n",
        "# Global Receptive field (26,26), output channel size =(3,3,32)\n",
        "\n",
        "\n",
        "model.add(Convolution2D(10,1, kernel_regularizer=regularizers.l2(0.0000001))) \n",
        "# Global Receptive field (26,26), output channel size =(3,3,10)\n",
        "\n",
        "model.add(BatchNormalization())\n",
        "model.add(Activation('relu'))\n",
        "\n",
        "\n",
        "model.add(AveragePooling2D(pool_size = (3, 3)))\n",
        "# Global Receptive field (28,28), output channel size =(1,1,10)\n",
        "\n",
        "\n",
        "model.add(Flatten())\n",
        "model.add(Activation('softmax'))\n"
      ],
      "execution_count": 0,
      "outputs": [
        {
          "output_type": "stream",
          "text": [
            "/usr/local/lib/python3.6/dist-packages/ipykernel_launcher.py:4: UserWarning: Update your `Conv2D` call to the Keras 2 API: `Conv2D(10, (3, 3), activation=\"relu\", input_shape=(28, 28, 1..., kernel_regularizer=<keras.reg...)`\n",
            "  after removing the cwd from sys.path.\n"
          ],
          "name": "stderr"
        }
      ]
    },
    {
      "cell_type": "code",
      "metadata": {
        "id": "0fQ4tqPwc6My",
        "colab_type": "code",
        "outputId": "ad9c56ba-6dea-4d2f-c69e-55783db97430",
        "colab": {
          "base_uri": "https://localhost:8080/",
          "height": 760
        }
      },
      "source": [
        "model.summary()"
      ],
      "execution_count": 0,
      "outputs": [
        {
          "output_type": "stream",
          "text": [
            "_________________________________________________________________\n",
            "Layer (type)                 Output Shape              Param #   \n",
            "=================================================================\n",
            "conv2d_26 (Conv2D)           (None, 26, 26, 10)        100       \n",
            "_________________________________________________________________\n",
            "conv2d_27 (Conv2D)           (None, 24, 24, 16)        1456      \n",
            "_________________________________________________________________\n",
            "batch_normalization_16 (Batc (None, 24, 24, 16)        64        \n",
            "_________________________________________________________________\n",
            "activation_17 (Activation)   (None, 24, 24, 16)        0         \n",
            "_________________________________________________________________\n",
            "dropout_11 (Dropout)         (None, 24, 24, 16)        0         \n",
            "_________________________________________________________________\n",
            "max_pooling2d_11 (MaxPooling (None, 12, 12, 16)        0         \n",
            "_________________________________________________________________\n",
            "conv2d_28 (Conv2D)           (None, 10, 10, 16)        2320      \n",
            "_________________________________________________________________\n",
            "batch_normalization_17 (Batc (None, 10, 10, 16)        64        \n",
            "_________________________________________________________________\n",
            "activation_18 (Activation)   (None, 10, 10, 16)        0         \n",
            "_________________________________________________________________\n",
            "dropout_12 (Dropout)         (None, 10, 10, 16)        0         \n",
            "_________________________________________________________________\n",
            "max_pooling2d_12 (MaxPooling (None, 5, 5, 16)          0         \n",
            "_________________________________________________________________\n",
            "conv2d_29 (Conv2D)           (None, 3, 3, 32)          4640      \n",
            "_________________________________________________________________\n",
            "conv2d_30 (Conv2D)           (None, 3, 3, 10)          330       \n",
            "_________________________________________________________________\n",
            "batch_normalization_18 (Batc (None, 3, 3, 10)          40        \n",
            "_________________________________________________________________\n",
            "activation_19 (Activation)   (None, 3, 3, 10)          0         \n",
            "_________________________________________________________________\n",
            "average_pooling2d_4 (Average (None, 1, 1, 10)          0         \n",
            "_________________________________________________________________\n",
            "flatten_4 (Flatten)          (None, 10)                0         \n",
            "_________________________________________________________________\n",
            "activation_20 (Activation)   (None, 10)                0         \n",
            "=================================================================\n",
            "Total params: 9,014\n",
            "Trainable params: 8,930\n",
            "Non-trainable params: 84\n",
            "_________________________________________________________________\n"
          ],
          "name": "stdout"
        }
      ]
    },
    {
      "cell_type": "code",
      "metadata": {
        "id": "poT-mkN4fc0L",
        "colab_type": "code",
        "colab": {}
      },
      "source": [
        "checkpointer = ModelCheckpoint(filepath='best_model.h5', monitor='val_acc', mode='auto', verbose = 1, save_best_only=True)\n",
        "lr_reducer = ReduceLROnPlateau(monitor='val_acc',factor=0.5, cooldown=0, patience=4, min_lr=0.5e-9,verbose = 1)"
      ],
      "execution_count": 0,
      "outputs": []
    },
    {
      "cell_type": "code",
      "metadata": {
        "id": "L2IicGJ4x3Be",
        "colab_type": "code",
        "outputId": "2304a1e5-f220-43d4-82c9-032a7f168649",
        "colab": {
          "base_uri": "https://localhost:8080/",
          "height": 1000
        }
      },
      "source": [
        "from keras.optimizers import Adam\n",
        "from keras.callbacks import LearningRateScheduler\n",
        "def scheduler(epoch, lr):\n",
        "  return round(0.003 * 1/(1 + 0.319 * epoch), 10)\n",
        "\n",
        "model.compile(loss='categorical_crossentropy', optimizer='sgd', metrics=['accuracy'])\n",
        "\n",
        "model.fit(X_train, Y_train, batch_size=64, nb_epoch=40, verbose=1,validation_data=(X_test, Y_test),callbacks=[checkpointer,lr_reducer])"
      ],
      "execution_count": 0,
      "outputs": [
        {
          "output_type": "stream",
          "text": [
            "/usr/local/lib/python3.6/dist-packages/ipykernel_launcher.py:8: UserWarning: The `nb_epoch` argument in `fit` has been renamed `epochs`.\n",
            "  \n"
          ],
          "name": "stderr"
        },
        {
          "output_type": "stream",
          "text": [
            "Train on 60000 samples, validate on 10000 samples\n",
            "Epoch 1/40\n",
            "60000/60000 [==============================] - 14s 225us/step - loss: 1.3918 - acc: 0.7430 - val_loss: 1.1735 - val_acc: 0.7500\n",
            "\n",
            "Epoch 00001: val_acc improved from -inf to 0.75000, saving model to best_model.h5\n",
            "Epoch 2/40\n",
            "60000/60000 [==============================] - 12s 195us/step - loss: 0.6098 - acc: 0.9229 - val_loss: 0.8776 - val_acc: 0.7935\n",
            "\n",
            "Epoch 00002: val_acc improved from 0.75000 to 0.79350, saving model to best_model.h5\n",
            "Epoch 3/40\n",
            "60000/60000 [==============================] - 12s 195us/step - loss: 0.3709 - acc: 0.9488 - val_loss: 0.5368 - val_acc: 0.9217\n",
            "\n",
            "Epoch 00003: val_acc improved from 0.79350 to 0.92170, saving model to best_model.h5\n",
            "Epoch 4/40\n",
            "60000/60000 [==============================] - 12s 194us/step - loss: 0.2731 - acc: 0.9591 - val_loss: 0.3730 - val_acc: 0.9533\n",
            "\n",
            "Epoch 00004: val_acc improved from 0.92170 to 0.95330, saving model to best_model.h5\n",
            "Epoch 5/40\n",
            "60000/60000 [==============================] - 12s 194us/step - loss: 0.2193 - acc: 0.9648 - val_loss: 0.3571 - val_acc: 0.9482\n",
            "\n",
            "Epoch 00005: val_acc did not improve from 0.95330\n",
            "Epoch 6/40\n",
            "60000/60000 [==============================] - 12s 195us/step - loss: 0.1852 - acc: 0.9695 - val_loss: 0.4205 - val_acc: 0.9233\n",
            "\n",
            "Epoch 00006: val_acc did not improve from 0.95330\n",
            "Epoch 7/40\n",
            "60000/60000 [==============================] - 12s 195us/step - loss: 0.1650 - acc: 0.9710 - val_loss: 0.4248 - val_acc: 0.9171\n",
            "\n",
            "Epoch 00007: val_acc did not improve from 0.95330\n",
            "Epoch 8/40\n",
            "60000/60000 [==============================] - 12s 196us/step - loss: 0.1477 - acc: 0.9738 - val_loss: 0.3039 - val_acc: 0.9484\n",
            "\n",
            "Epoch 00008: val_acc did not improve from 0.95330\n",
            "\n",
            "Epoch 00008: ReduceLROnPlateau reducing learning rate to 0.004999999888241291.\n",
            "Epoch 9/40\n",
            "60000/60000 [==============================] - 12s 196us/step - loss: 0.1352 - acc: 0.9751 - val_loss: 0.2803 - val_acc: 0.9526\n",
            "\n",
            "Epoch 00009: val_acc did not improve from 0.95330\n",
            "Epoch 10/40\n",
            "60000/60000 [==============================] - 12s 195us/step - loss: 0.1303 - acc: 0.9755 - val_loss: 0.2902 - val_acc: 0.9495\n",
            "\n",
            "Epoch 00010: val_acc did not improve from 0.95330\n",
            "Epoch 11/40\n",
            "60000/60000 [==============================] - 12s 195us/step - loss: 0.1259 - acc: 0.9763 - val_loss: 0.2417 - val_acc: 0.9625\n",
            "\n",
            "Epoch 00011: val_acc improved from 0.95330 to 0.96250, saving model to best_model.h5\n",
            "Epoch 12/40\n",
            "60000/60000 [==============================] - 12s 194us/step - loss: 0.1210 - acc: 0.9781 - val_loss: 0.2271 - val_acc: 0.9647\n",
            "\n",
            "Epoch 00012: val_acc improved from 0.96250 to 0.96470, saving model to best_model.h5\n",
            "Epoch 13/40\n",
            "60000/60000 [==============================] - 12s 195us/step - loss: 0.1168 - acc: 0.9772 - val_loss: 0.2274 - val_acc: 0.9631\n",
            "\n",
            "Epoch 00013: val_acc did not improve from 0.96470\n",
            "Epoch 14/40\n",
            "60000/60000 [==============================] - 12s 195us/step - loss: 0.1143 - acc: 0.9775 - val_loss: 0.2147 - val_acc: 0.9654\n",
            "\n",
            "Epoch 00014: val_acc improved from 0.96470 to 0.96540, saving model to best_model.h5\n",
            "Epoch 15/40\n",
            "60000/60000 [==============================] - 12s 194us/step - loss: 0.1091 - acc: 0.9792 - val_loss: 0.2276 - val_acc: 0.9606\n",
            "\n",
            "Epoch 00015: val_acc did not improve from 0.96540\n",
            "Epoch 16/40\n",
            "60000/60000 [==============================] - 12s 195us/step - loss: 0.1049 - acc: 0.9796 - val_loss: 0.2405 - val_acc: 0.9560\n",
            "\n",
            "Epoch 00016: val_acc did not improve from 0.96540\n",
            "Epoch 17/40\n",
            "60000/60000 [==============================] - 12s 195us/step - loss: 0.1031 - acc: 0.9799 - val_loss: 0.1995 - val_acc: 0.9674\n",
            "\n",
            "Epoch 00017: val_acc improved from 0.96540 to 0.96740, saving model to best_model.h5\n",
            "Epoch 18/40\n",
            "60000/60000 [==============================] - 12s 195us/step - loss: 0.1000 - acc: 0.9804 - val_loss: 0.1875 - val_acc: 0.9707\n",
            "\n",
            "Epoch 00018: val_acc improved from 0.96740 to 0.97070, saving model to best_model.h5\n",
            "Epoch 19/40\n",
            "60000/60000 [==============================] - 12s 195us/step - loss: 0.0980 - acc: 0.9807 - val_loss: 0.1943 - val_acc: 0.9680\n",
            "\n",
            "Epoch 00019: val_acc did not improve from 0.97070\n",
            "Epoch 20/40\n",
            "60000/60000 [==============================] - 12s 196us/step - loss: 0.0953 - acc: 0.9811 - val_loss: 0.2022 - val_acc: 0.9656\n",
            "\n",
            "Epoch 00020: val_acc did not improve from 0.97070\n",
            "Epoch 21/40\n",
            "60000/60000 [==============================] - 12s 196us/step - loss: 0.0928 - acc: 0.9817 - val_loss: 0.1927 - val_acc: 0.9690\n",
            "\n",
            "Epoch 00021: val_acc did not improve from 0.97070\n",
            "Epoch 22/40\n",
            "60000/60000 [==============================] - 12s 199us/step - loss: 0.0909 - acc: 0.9819 - val_loss: 0.1848 - val_acc: 0.9690\n",
            "\n",
            "Epoch 00022: val_acc did not improve from 0.97070\n",
            "\n",
            "Epoch 00022: ReduceLROnPlateau reducing learning rate to 0.0024999999441206455.\n",
            "Epoch 23/40\n",
            "60000/60000 [==============================] - 12s 196us/step - loss: 0.0891 - acc: 0.9822 - val_loss: 0.1773 - val_acc: 0.9692\n",
            "\n",
            "Epoch 00023: val_acc did not improve from 0.97070\n",
            "Epoch 24/40\n",
            "60000/60000 [==============================] - 12s 195us/step - loss: 0.0882 - acc: 0.9824 - val_loss: 0.1645 - val_acc: 0.9737\n",
            "\n",
            "Epoch 00024: val_acc improved from 0.97070 to 0.97370, saving model to best_model.h5\n",
            "Epoch 25/40\n",
            "60000/60000 [==============================] - 12s 194us/step - loss: 0.0861 - acc: 0.9832 - val_loss: 0.1776 - val_acc: 0.9700\n",
            "\n",
            "Epoch 00025: val_acc did not improve from 0.97370\n",
            "Epoch 26/40\n",
            "60000/60000 [==============================] - 12s 197us/step - loss: 0.0875 - acc: 0.9816 - val_loss: 0.1816 - val_acc: 0.9672\n",
            "\n",
            "Epoch 00026: val_acc did not improve from 0.97370\n",
            "Epoch 27/40\n",
            "60000/60000 [==============================] - 12s 195us/step - loss: 0.0856 - acc: 0.9826 - val_loss: 0.1624 - val_acc: 0.9733\n",
            "\n",
            "Epoch 00027: val_acc did not improve from 0.97370\n",
            "Epoch 28/40\n",
            "60000/60000 [==============================] - 12s 196us/step - loss: 0.0832 - acc: 0.9828 - val_loss: 0.1853 - val_acc: 0.9656\n",
            "\n",
            "Epoch 00028: val_acc did not improve from 0.97370\n",
            "\n",
            "Epoch 00028: ReduceLROnPlateau reducing learning rate to 0.0012499999720603228.\n",
            "Epoch 29/40\n",
            "60000/60000 [==============================] - 12s 195us/step - loss: 0.0834 - acc: 0.9834 - val_loss: 0.1739 - val_acc: 0.9690\n",
            "\n",
            "Epoch 00029: val_acc did not improve from 0.97370\n",
            "Epoch 30/40\n",
            "60000/60000 [==============================] - 12s 195us/step - loss: 0.0825 - acc: 0.9831 - val_loss: 0.1781 - val_acc: 0.9684\n",
            "\n",
            "Epoch 00030: val_acc did not improve from 0.97370\n",
            "Epoch 31/40\n",
            "60000/60000 [==============================] - 12s 195us/step - loss: 0.0821 - acc: 0.9826 - val_loss: 0.1713 - val_acc: 0.9710\n",
            "\n",
            "Epoch 00031: val_acc did not improve from 0.97370\n",
            "Epoch 32/40\n",
            "60000/60000 [==============================] - 12s 196us/step - loss: 0.0824 - acc: 0.9831 - val_loss: 0.1676 - val_acc: 0.9713\n",
            "\n",
            "Epoch 00032: val_acc did not improve from 0.97370\n",
            "\n",
            "Epoch 00032: ReduceLROnPlateau reducing learning rate to 0.0006249999860301614.\n",
            "Epoch 33/40\n",
            "60000/60000 [==============================] - 12s 194us/step - loss: 0.0818 - acc: 0.9832 - val_loss: 0.1700 - val_acc: 0.9703\n",
            "\n",
            "Epoch 00033: val_acc did not improve from 0.97370\n",
            "Epoch 34/40\n",
            "60000/60000 [==============================] - 12s 195us/step - loss: 0.0815 - acc: 0.9830 - val_loss: 0.1591 - val_acc: 0.9743\n",
            "\n",
            "Epoch 00034: val_acc improved from 0.97370 to 0.97430, saving model to best_model.h5\n",
            "Epoch 35/40\n",
            "60000/60000 [==============================] - 12s 195us/step - loss: 0.0822 - acc: 0.9827 - val_loss: 0.1644 - val_acc: 0.9721\n",
            "\n",
            "Epoch 00035: val_acc did not improve from 0.97430\n",
            "Epoch 36/40\n",
            "60000/60000 [==============================] - 12s 194us/step - loss: 0.0816 - acc: 0.9828 - val_loss: 0.1731 - val_acc: 0.9696\n",
            "\n",
            "Epoch 00036: val_acc did not improve from 0.97430\n",
            "Epoch 37/40\n",
            "60000/60000 [==============================] - 12s 195us/step - loss: 0.0804 - acc: 0.9837 - val_loss: 0.1675 - val_acc: 0.9714\n",
            "\n",
            "Epoch 00037: val_acc did not improve from 0.97430\n",
            "Epoch 38/40\n",
            "60000/60000 [==============================] - 12s 195us/step - loss: 0.0805 - acc: 0.9836 - val_loss: 0.1705 - val_acc: 0.9702\n",
            "\n",
            "Epoch 00038: val_acc did not improve from 0.97430\n",
            "\n",
            "Epoch 00038: ReduceLROnPlateau reducing learning rate to 0.0003124999930150807.\n",
            "Epoch 39/40\n",
            "60000/60000 [==============================] - 12s 195us/step - loss: 0.0804 - acc: 0.9833 - val_loss: 0.1698 - val_acc: 0.9701\n",
            "\n",
            "Epoch 00039: val_acc did not improve from 0.97430\n",
            "Epoch 40/40\n",
            "60000/60000 [==============================] - 12s 195us/step - loss: 0.0804 - acc: 0.9835 - val_loss: 0.1650 - val_acc: 0.9729\n",
            "\n",
            "Epoch 00040: val_acc did not improve from 0.97430\n"
          ],
          "name": "stdout"
        },
        {
          "output_type": "execute_result",
          "data": {
            "text/plain": [
              "<keras.callbacks.History at 0x7f871e99c240>"
            ]
          },
          "metadata": {
            "tags": []
          },
          "execution_count": 42
        }
      ]
    },
    {
      "cell_type": "code",
      "metadata": {
        "id": "WLxlW9ufyQiO",
        "colab_type": "code",
        "colab": {}
      },
      "source": [
        "# Loading a saved model\n",
        "model=keras.models.load_model('best_model.h5')"
      ],
      "execution_count": 0,
      "outputs": []
    },
    {
      "cell_type": "code",
      "metadata": {
        "id": "m2qDl21ozBnW",
        "colab_type": "code",
        "outputId": "1aecb755-e3cd-48da-951b-a227cbdd66b1",
        "colab": {
          "base_uri": "https://localhost:8080/",
          "height": 35
        }
      },
      "source": [
        "score = model.evaluate(X_test, Y_test, verbose=0)\n",
        "print(score)"
      ],
      "execution_count": 0,
      "outputs": [
        {
          "output_type": "stream",
          "text": [
            "[0.15905679914951323, 0.9743]\n"
          ],
          "name": "stdout"
        }
      ]
    },
    {
      "cell_type": "code",
      "metadata": {
        "id": "JW7_atJEgsN9",
        "colab_type": "code",
        "colab": {}
      },
      "source": [
        "# calculate predictions\n",
        "# used to compute category outputs\n",
        "predict=model.predict_classes(X_test)"
      ],
      "execution_count": 0,
      "outputs": []
    },
    {
      "cell_type": "markdown",
      "metadata": {
        "id": "uIavkbMEn8LH",
        "colab_type": "text"
      },
      "source": [
        "#Showing 25 Misclassified Images "
      ]
    },
    {
      "cell_type": "code",
      "metadata": {
        "id": "vsGYG7a9hnLY",
        "colab_type": "code",
        "colab": {}
      },
      "source": [
        "misclassified = np.nonzero(model.predict_classes(X_test).reshape((-1,)) != y_test)\n",
        "misclassified=misclassified[0].tolist()"
      ],
      "execution_count": 0,
      "outputs": []
    },
    {
      "cell_type": "code",
      "metadata": {
        "id": "Z34B-MctnsfJ",
        "colab_type": "code",
        "outputId": "1da1d632-1294-4612-b8ef-7d375cf2a61e",
        "colab": {
          "base_uri": "https://localhost:8080/",
          "height": 365
        }
      },
      "source": [
        "fig=plt.figure(figsize=(20,20))\n",
        "n=0\n",
        "for j in (misclassified):\n",
        "  if n <25:\n",
        "    fig.add_subplot(10,10,n+1) # 10,10 is rows, columns\n",
        "    plt.imshow(test_X[j])\n",
        "    n+=1\n",
        "plt.show()"
      ],
      "execution_count": 0,
      "outputs": [
        {
          "output_type": "display_data",
          "data": {
            "image/png": "[encoded data removed]",
            "text/plain": [
              "<Figure size 1440x1440 with 25 Axes>"
            ]
          },
          "metadata": {
            "tags": []
          }
        }
      ]
    },
    {
      "cell_type": "code",
      "metadata": {
        "id": "Y46K0d5crnCH",
        "colab_type": "code",
        "colab": {}
      },
      "source": [
        ""
      ],
      "execution_count": 0,
      "outputs": []
    }
  ]
}